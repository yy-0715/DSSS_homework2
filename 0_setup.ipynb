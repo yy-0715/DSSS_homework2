{
  "cells": [
    {
      "cell_type": "markdown",
      "metadata": {
        "id": "view-in-github",
        "colab_type": "text"
      },
      "source": [
        "<a href=\"https://colab.research.google.com/github/yy-0715/DSSS_homework2/blob/main/0_setup.ipynb\" target=\"_parent\"><img src=\"https://colab.research.google.com/assets/colab-badge.svg\" alt=\"Open In Colab\"/></a>"
      ]
    },
    {
      "cell_type": "markdown",
      "id": "29fa3ba3",
      "metadata": {
        "pycharm": {
          "name": "#%% md\n"
        },
        "id": "29fa3ba3"
      },
      "source": [
        "Fill in your github username and idm credentials below:"
      ]
    },
    {
      "cell_type": "code",
      "execution_count": 1,
      "id": "527e828c",
      "metadata": {
        "pycharm": {
          "is_executing": true,
          "name": "#%%\n"
        },
        "id": "527e828c"
      },
      "outputs": [],
      "source": [
        "github_username = \"yy-0715\"\n",
        "idm_credentials = \"oc49uxyc\""
      ]
    },
    {
      "cell_type": "markdown",
      "id": "2a69b1d0",
      "metadata": {
        "pycharm": {
          "name": "#%% md\n"
        },
        "id": "2a69b1d0"
      },
      "source": [
        "---"
      ]
    },
    {
      "cell_type": "markdown",
      "id": "287a209e-37b1-4946-83df-a0b91b3e977b",
      "metadata": {
        "pycharm": {
          "name": "#%% md\n"
        },
        "id": "287a209e-37b1-4946-83df-a0b91b3e977b"
      },
      "source": [
        "# **Applied Data Science in Medicine & Psychology** - Assignment 0\n",
        "## Setup\n",
        "---\n",
        "\n",
        "This first assignment of the \"Applied Data Science in Medicine & Psychology\" course introduces the tools used for the programming tasks and gives instructions about their setup.\n",
        "\n",
        "### **General Setup and Submission**\n",
        "1. Save an editable copy of this notebook to your Google Drive ``File`` $\\rightarrow$ ``Save a copy in Drive`` and remove the automatically appended \"Copy of\" text. **Do not change the original file name**.\n",
        "2. Work on the assignment in the *copied* version of the notebook. Make sure that you **replace** all parts of the tasks indicated with *YOUR CODE HERE* and **raise NotImplementedError()** (otherwise this causes an error in your implementation) or *YOUR ANSWER HERE* with your solution.\n",
        "3. If you take a break during the implementation, you can save the current status of your work in your repository following the submission instructions below. When you continue working on the assignment, do this in the version of the notebook that you saved in your Google Drive (access from your Google Colab account) or your repository."
      ]
    },
    {
      "cell_type": "markdown",
      "id": "6e0a0bed-2b02-46aa-bf34-da0b11d7e20e",
      "metadata": {
        "pycharm": {
          "name": "#%% md\n"
        },
        "id": "6e0a0bed-2b02-46aa-bf34-da0b11d7e20e"
      },
      "source": [
        "### **Assignment Description**\n",
        "\n",
        "#### **Assignment Goals**\n",
        "You are going to learn the following things in this assignment:\n",
        "1. How to setup your Google Colaboratory and GitHub accounts\n",
        "2. How to access and submit assignments\n",
        "\n",
        "#### **Assignment Point Value**\n",
        "This assignment is worth a total (up to) **1** point. If your code passes all of the automatic tests, you will receive full credit."
      ]
    },
    {
      "cell_type": "markdown",
      "id": "06556fce-5bbf-430e-ba20-02d0ed4b81c9",
      "metadata": {
        "pycharm": {
          "name": "#%% md\n"
        },
        "tags": [],
        "id": "06556fce-5bbf-430e-ba20-02d0ed4b81c9"
      },
      "source": [
        "### **Tasks**\n",
        "Make sure that you now work on your *copied* version of this assignment's notebook.\n",
        "\n",
        "1. Change the code in the next cell to indicate that you have gone through the exercise introduction in StudOn and set up your Google Colaboratory and GitHub account. You should change each variable from ``False`` to ``True`` to show which tasks you have accomplished (by self-report)."
      ]
    },
    {
      "cell_type": "code",
      "execution_count": 2,
      "id": "93016972-6143-480f-ac7b-a1480bb33ce1",
      "metadata": {
        "deletable": false,
        "nbgrader": {
          "cell_type": "code",
          "checksum": "ab35809fae5e6e72fc12e0e677905faf",
          "grade": false,
          "grade_id": "task_1",
          "locked": false,
          "schema_version": 3,
          "solution": true,
          "task": false
        },
        "pycharm": {
          "name": "#%%\n"
        },
        "tags": [],
        "id": "93016972-6143-480f-ac7b-a1480bb33ce1"
      },
      "outputs": [],
      "source": [
        "# I have read through the introduction about Tools, Grading and Setup\n",
        "read_introduction = True\n",
        "\n",
        "# I have a Google account and can access Google Colaboratory under my own\n",
        "# account\n",
        "access_colaboratory = True\n",
        "\n",
        "# I have a GitHub account\n",
        "github_account = True"
      ]
    },
    {
      "cell_type": "markdown",
      "id": "651b8054-47a7-41eb-97eb-28b1abd93f8f",
      "metadata": {
        "id": "651b8054-47a7-41eb-97eb-28b1abd93f8f"
      },
      "source": [
        "By running the following cell you can check for errors in your implementation. Make sure that no \"AssertationError\" occurs."
      ]
    },
    {
      "cell_type": "code",
      "execution_count": 3,
      "id": "04a48ecc-afaf-4b99-9806-7e99825be809",
      "metadata": {
        "deletable": false,
        "editable": false,
        "nbgrader": {
          "cell_type": "code",
          "checksum": "090e148abfae108e0965cd37cadd104e",
          "grade": true,
          "grade_id": "task_1_test",
          "locked": true,
          "points": 1,
          "schema_version": 3,
          "solution": false,
          "task": false
        },
        "pycharm": {
          "name": "#%%\n"
        },
        "tags": [],
        "id": "04a48ecc-afaf-4b99-9806-7e99825be809"
      },
      "outputs": [],
      "source": [
        "# run tests to check your implementation\n",
        "assert read_introduction == True, \"The variable read_introduction is not set to True\"\n",
        "assert access_colaboratory == True, \"The variable access_colaboratory is not set to True\"\n",
        "assert github_account == True, \"The variable github_account is not set to True\""
      ]
    },
    {
      "cell_type": "markdown",
      "id": "4732268e-d1c5-4a23-9023-51c840755178",
      "metadata": {
        "pycharm": {
          "name": "#%% md\n"
        },
        "id": "4732268e-d1c5-4a23-9023-51c840755178"
      },
      "source": [
        "2. Also update the ``github_username`` and ``idm_credentials`` accordingly. Keep the **'** around **'**username**'** and **'**ab12abcd**'**."
      ]
    },
    {
      "cell_type": "code",
      "execution_count": 4,
      "id": "5b544f76-3569-4d92-a45e-0cd232f280e0",
      "metadata": {
        "pycharm": {
          "name": "#%%\n"
        },
        "tags": [],
        "id": "5b544f76-3569-4d92-a45e-0cd232f280e0"
      },
      "outputs": [],
      "source": [
        "# enter your github username\n",
        "github_username = 'yy-0715'\n",
        "\n",
        "# enter your FAU idM-credentials\n",
        "idm_credentials = 'oc49uxyc'"
      ]
    },
    {
      "cell_type": "markdown",
      "id": "f791c938-c6ad-45a0-b3f6-9c1bb3e0a956",
      "metadata": {
        "pycharm": {
          "name": "#%% md\n"
        },
        "id": "f791c938-c6ad-45a0-b3f6-9c1bb3e0a956"
      },
      "source": [
        "### **Submission**\n",
        "After you finished completing the code above, you need to submit your assignment. Submitting the assignment entails syncing your copy of the notebook with your private GitHub assignment repository (``digikolleg-data-science-psychology/0-setup-<username>``):\n",
        "* Check that everything runs as expected. To do that select in the menubar ``Runtime`` $\\rightarrow$ ``Restart and run all``. This will clear all your local variables and runs your notebook from the beginning.\n",
        "* Save your notebook, click ``File`` $\\rightarrow$ ``Save``\n",
        "* Click ``File`` $\\rightarrow$ ``Save a copy in GitHub``\n",
        "* Select ``digikolleg-data-science-psychology/0-setup-<username>`` from the repository drop-down menu\n",
        "* Type ``0_setup.ipynb`` into the file path text box\n",
        "* Optionally, you may enter a description into the \"Commit message\" text box (like: \"solved task 1\" or \"ready for grading\")\n",
        "* Make sure that the \"Include a link to Colaboratory\" box is checked\n",
        "* Press \"Ok\"\n",
        "* A new tab or window should open up, displaying your submitted notebook within your GitHub repository\n",
        "\n",
        "### **Updating your submission**\n",
        "Prior to the assignment deadline you can re-submit your assignment as often as you would like. This will update the copy of your assignment file in your assignment's repository. Update the assignment from the notebook that you saved in your Google Drive (access from your Google Colab account) or your own repository."
      ]
    }
  ],
  "metadata": {
    "kernelspec": {
      "display_name": "Python 3",
      "name": "python3"
    },
    "language_info": {
      "name": "python"
    },
    "colab": {
      "provenance": [],
      "include_colab_link": true
    }
  },
  "nbformat": 4,
  "nbformat_minor": 5
}